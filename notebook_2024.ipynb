{
 "cells": [
  {
   "cell_type": "code",
   "execution_count": 69,
   "metadata": {},
   "outputs": [],
   "source": [
    "import pandas as pd"
   ]
  },
  {
   "cell_type": "markdown",
   "metadata": {},
   "source": [
    "leitura e processamento básico (ano, mês e função pontos)"
   ]
  },
  {
   "cell_type": "code",
   "execution_count": 70,
   "metadata": {},
   "outputs": [],
   "source": [
    "df_liga = pd.read_excel('data/testedatasetv2b.xlsx')\n",
    "df_liga['month_number'] = df_liga['DATA'].dt.month\n",
    "df_liga['year'] = df_liga['DATA'].dt.year\n",
    "\n",
    "df_copas = pd.read_excel('data/copas_mr.xlsx')\n",
    "df_copas['month_number'] = df_copas['DATA'].dt.month\n",
    "df_copas['year'] = df_copas['DATA'].dt.year\n",
    "\n",
    "df = pd.concat([df_liga, df_copas])\n",
    "\n",
    "df_liga.fillna(0, inplace=True)\n",
    "df_copas.fillna(0, inplace=True)\n",
    "\n",
    "df.fillna(0, inplace=True)"
   ]
  },
  {
   "cell_type": "code",
   "execution_count": 71,
   "metadata": {},
   "outputs": [],
   "source": [
    "def calculate_points(row):\n",
    "    if row['POSIÇÃO'] == 'ATA':\n",
    "        return row['V']*7 + row['E']*0 + row['D']*-4 + row['GOL']*7 + row['ASS']*4 + row['STG']*2 + row['GC']*-10 + row['AMA']*-4 + row['AZUL']*-8 + row['VER']*-16 + row['PP']*-10 + row['GS']*0 + row['DD']*0 + row['DP']*0\n",
    "    elif row['POSIÇÃO'] == 'MEI':\n",
    "        return row['V']*7 + row['E']*0 + row['D']*-4 + row['GOL']*8.5 + row['ASS']*5 + row['STG']*2.5 + row['GC']*-10 + row['AMA']*-4 + row['AZUL']*-8 + row['VER']*-16 + row['PP']*-10 + row['GS']*0 + row['DD']*0 + row['DP']*0\n",
    "    elif row['POSIÇÃO'] == 'ZAG':\n",
    "        return row['V']*7 + row['E']*0 + row['D']*-4 + row['GOL']*10 + row['ASS']*6 + row['STG']*3 + row['GC']*-10 + row['AMA']*-4 + row['AZUL']*-8 + row['VER']*-16 + row['PP']*-10 + row['GS']*0 + row['DD']*0 + row['DP']*0\n",
    "    elif row['POSIÇÃO'] == 'GK':\n",
    "        return row['V']*6 + row['E']*0 + row['D']*-3 + row['GOL']*16 + row['ASS']*10 + row['STG']*4 + row['GC']*-10 + row['AMA']*-4 + row['AZUL']*-8 + row['VER']*-16 + row['PP']*-10 + row['GS']*-3 + row['DD']*5 + row['DP']*20\n",
    "    else:\n",
    "        return 0\n"
   ]
  },
  {
   "cell_type": "code",
   "execution_count": 72,
   "metadata": {},
   "outputs": [],
   "source": [
    "#df_liga['points'] = df_liga.apply(calculate_points, axis=1)"
   ]
  },
  {
   "cell_type": "markdown",
   "metadata": {},
   "source": [
    "----"
   ]
  },
  {
   "cell_type": "code",
   "execution_count": null,
   "metadata": {},
   "outputs": [],
   "source": [
    "df_season_table = df.groupby('PLAYER').agg({'V':'sum', 'E':'sum', 'D':'sum', 'GOL':'sum', 'ASS':'sum', 'STG':'sum','AMA':'sum', 'AZUL':'sum', 'VER':'sum','FALTA':'sum', 'PTS':'sum'})\n",
    "df_season_table = df_season_table.sort_values(by='PTS', ascending=False)\n",
    "df_season_table = df_season_table.reset_index()\n",
    "df_season_table['POS'] = df_season_table.index.values + 1\n",
    "df_season_table = df_season_table[['POS', 'PLAYER', 'V', 'E', 'D', 'GOL', 'ASS', 'STG', 'AMA', 'AZUL', 'VER','FALTA', 'PTS']]\n",
    "\n",
    "df_season_table"
   ]
  }
 ],
 "metadata": {
  "kernelspec": {
   "display_name": "Python 3",
   "language": "python",
   "name": "python3"
  },
  "language_info": {
   "codemirror_mode": {
    "name": "ipython",
    "version": 3
   },
   "file_extension": ".py",
   "mimetype": "text/x-python",
   "name": "python",
   "nbconvert_exporter": "python",
   "pygments_lexer": "ipython3",
   "version": "3.11.2"
  }
 },
 "nbformat": 4,
 "nbformat_minor": 2
}
